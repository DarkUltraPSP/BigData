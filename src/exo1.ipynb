{
 "cells": [
  {
   "cell_type": "code",
   "execution_count": 132,
   "metadata": {},
   "outputs": [],
   "source": [
    "import pandas as pd\n",
    "import matplotlib.pyplot as plt"
   ]
  },
  {
   "cell_type": "code",
   "execution_count": 133,
   "metadata": {},
   "outputs": [],
   "source": [
    "raw_df = pd.read_csv(\"../data/RAW/A202001.csv\", delimiter=\";\", nrows=1000000)\n",
    "head_df = raw_df.head(1000000)\n",
    "head_df"
   ]
  },
  {
   "cell_type": "code",
   "execution_count": null,
   "metadata": {},
   "outputs": [
    {
     "data": {
      "text/html": [
       "<div>\n",
       "<style scoped>\n",
       "    .dataframe tbody tr th:only-of-type {\n",
       "        vertical-align: middle;\n",
       "    }\n",
       "\n",
       "    .dataframe tbody tr th {\n",
       "        vertical-align: top;\n",
       "    }\n",
       "\n",
       "    .dataframe thead th {\n",
       "        text-align: right;\n",
       "    }\n",
       "</style>\n",
       "<table border=\"1\" class=\"dataframe\">\n",
       "  <thead>\n",
       "    <tr style=\"text-align: right;\">\n",
       "      <th></th>\n",
       "      <th>Depenses</th>\n",
       "      <th>SpeExec</th>\n",
       "    </tr>\n",
       "  </thead>\n",
       "  <tbody>\n",
       "    <tr>\n",
       "      <th>9</th>\n",
       "      <td>0.00</td>\n",
       "      <td>7.0</td>\n",
       "    </tr>\n",
       "    <tr>\n",
       "      <th>14</th>\n",
       "      <td>0.00</td>\n",
       "      <td>32.0</td>\n",
       "    </tr>\n",
       "    <tr>\n",
       "      <th>19</th>\n",
       "      <td>0.00</td>\n",
       "      <td>33.0</td>\n",
       "    </tr>\n",
       "    <tr>\n",
       "      <th>20</th>\n",
       "      <td>50.00</td>\n",
       "      <td>1.0</td>\n",
       "    </tr>\n",
       "    <tr>\n",
       "      <th>21</th>\n",
       "      <td>325.00</td>\n",
       "      <td>1.0</td>\n",
       "    </tr>\n",
       "    <tr>\n",
       "      <th>...</th>\n",
       "      <td>...</td>\n",
       "      <td>...</td>\n",
       "    </tr>\n",
       "    <tr>\n",
       "      <th>999988</th>\n",
       "      <td>46.00</td>\n",
       "      <td>35.0</td>\n",
       "    </tr>\n",
       "    <tr>\n",
       "      <th>999990</th>\n",
       "      <td>65.82</td>\n",
       "      <td>13.0</td>\n",
       "    </tr>\n",
       "    <tr>\n",
       "      <th>999993</th>\n",
       "      <td>10.00</td>\n",
       "      <td>12.0</td>\n",
       "    </tr>\n",
       "    <tr>\n",
       "      <th>999994</th>\n",
       "      <td>43.00</td>\n",
       "      <td>36.0</td>\n",
       "    </tr>\n",
       "    <tr>\n",
       "      <th>999998</th>\n",
       "      <td>8.00</td>\n",
       "      <td>15.0</td>\n",
       "    </tr>\n",
       "  </tbody>\n",
       "</table>\n",
       "<p>269918 rows × 2 columns</p>\n",
       "</div>"
      ],
      "text/plain": [
       "        Depenses  SpeExec\n",
       "9           0.00      7.0\n",
       "14          0.00     32.0\n",
       "19          0.00     33.0\n",
       "20         50.00      1.0\n",
       "21        325.00      1.0\n",
       "...          ...      ...\n",
       "999988     46.00     35.0\n",
       "999990     65.82     13.0\n",
       "999993     10.00     12.0\n",
       "999994     43.00     36.0\n",
       "999998      8.00     15.0\n",
       "\n",
       "[269918 rows x 2 columns]"
      ]
     },
     "execution_count": 112,
     "metadata": {},
     "output_type": "execute_result"
    }
   ],
   "source": [
    "# Moyenne des dépenses / Professions\n",
    "new_df = {\n",
    "    \"Depenses\" : head_df.FLT_PAI_MNT,\n",
    "    \"SpeExec\" : head_df.PSE_SPE_SNDS[(head_df.PSE_SPE_SNDS!=0) & (head_df.PSE_SPE_SNDS!=99) & (head_df.PSE_SPE_SNDS!=80)]\n",
    "}\n",
    "\n",
    "new_df = pd.DataFrame(new_df)\n",
    "new_df = new_df.dropna()\n",
    "new_df"
   ]
  },
  {
   "cell_type": "code",
   "execution_count": null,
   "metadata": {},
   "outputs": [
    {
     "data": {
      "text/plain": [
       "34.0      684\n",
       "36.0     1362\n",
       "38.0     1430\n",
       "31.0     1644\n",
       "35.0     1934\n",
       "18.0     3820\n",
       "42.0     4177\n",
       "37.0     4545\n",
       "32.0     4593\n",
       "9.0      4712\n",
       "12.0     5419\n",
       "13.0     5843\n",
       "14.0     6091\n",
       "8.0      7344\n",
       "11.0     8994\n",
       "5.0      9834\n",
       "33.0     9977\n",
       "2.0     11645\n",
       "3.0     11938\n",
       "7.0     14355\n",
       "15.0    18070\n",
       "4.0     21045\n",
       "6.0     29056\n",
       "1.0     81406\n",
       "Name: SpeExec, dtype: int64"
      ]
     },
     "execution_count": 113,
     "metadata": {},
     "output_type": "execute_result"
    }
   ],
   "source": [
    "depense = new_df.SpeExec.value_counts().sort_values()\n",
    "depense.sort_values()"
   ]
  },
  {
   "cell_type": "code",
   "execution_count": null,
   "metadata": {},
   "outputs": [
    {
     "data": {
      "image/png": "[encoded data removed]",
      "text/plain": [
       "<Figure size 1512x360 with 1 Axes>"
      ]
     },
     "metadata": {
      "needs_background": "light"
     },
     "output_type": "display_data"
    }
   ],
   "source": [
    "fig = plt.figure(figsize=(21, 5))\n",
    "ax = fig.add_axes([0,0,1,1])\n",
    "\n",
    "\n",
    "depenses = ax.bar(depense.keys(), depense, width = 0.5, color = '#0064FF')\n",
    "ax.set_xlabel(\"Code Spécialité Médicale de l'Executant\")\n",
    "ax.set_ylabel(\"Somme des dépenses\")\n",
    "\n",
    "plt.xticks(depense.keys().array)\n",
    "plt.title(\"Depenses par Specialité Médiacale\")\n",
    "plt.show()"
   ]
  },
  {
   "cell_type": "code",
   "execution_count": null,
   "metadata": {},
   "outputs": [
    {
     "data": {
      "text/html": [
       "<div>\n",
       "<style scoped>\n",
       "    .dataframe tbody tr th:only-of-type {\n",
       "        vertical-align: middle;\n",
       "    }\n",
       "\n",
       "    .dataframe tbody tr th {\n",
       "        vertical-align: top;\n",
       "    }\n",
       "\n",
       "    .dataframe thead th {\n",
       "        text-align: right;\n",
       "    }\n",
       "</style>\n",
       "<table border=\"1\" class=\"dataframe\">\n",
       "  <thead>\n",
       "    <tr style=\"text-align: right;\">\n",
       "      <th></th>\n",
       "      <th>Age</th>\n",
       "      <th>Sex</th>\n",
       "      <th>SpeExec</th>\n",
       "    </tr>\n",
       "  </thead>\n",
       "  <tbody>\n",
       "    <tr>\n",
       "      <th>9</th>\n",
       "      <td>40.0</td>\n",
       "      <td>2.0</td>\n",
       "      <td>7.0</td>\n",
       "    </tr>\n",
       "    <tr>\n",
       "      <th>14</th>\n",
       "      <td>40.0</td>\n",
       "      <td>2.0</td>\n",
       "      <td>32.0</td>\n",
       "    </tr>\n",
       "    <tr>\n",
       "      <th>19</th>\n",
       "      <td>30.0</td>\n",
       "      <td>2.0</td>\n",
       "      <td>33.0</td>\n",
       "    </tr>\n",
       "    <tr>\n",
       "      <th>20</th>\n",
       "      <td>80.0</td>\n",
       "      <td>2.0</td>\n",
       "      <td>1.0</td>\n",
       "    </tr>\n",
       "    <tr>\n",
       "      <th>21</th>\n",
       "      <td>50.0</td>\n",
       "      <td>2.0</td>\n",
       "      <td>1.0</td>\n",
       "    </tr>\n",
       "    <tr>\n",
       "      <th>...</th>\n",
       "      <td>...</td>\n",
       "      <td>...</td>\n",
       "      <td>...</td>\n",
       "    </tr>\n",
       "    <tr>\n",
       "      <th>999988</th>\n",
       "      <td>60.0</td>\n",
       "      <td>2.0</td>\n",
       "      <td>35.0</td>\n",
       "    </tr>\n",
       "    <tr>\n",
       "      <th>999990</th>\n",
       "      <td>0.0</td>\n",
       "      <td>1.0</td>\n",
       "      <td>13.0</td>\n",
       "    </tr>\n",
       "    <tr>\n",
       "      <th>999993</th>\n",
       "      <td>30.0</td>\n",
       "      <td>2.0</td>\n",
       "      <td>12.0</td>\n",
       "    </tr>\n",
       "    <tr>\n",
       "      <th>999994</th>\n",
       "      <td>0.0</td>\n",
       "      <td>2.0</td>\n",
       "      <td>36.0</td>\n",
       "    </tr>\n",
       "    <tr>\n",
       "      <th>999998</th>\n",
       "      <td>70.0</td>\n",
       "      <td>2.0</td>\n",
       "      <td>15.0</td>\n",
       "    </tr>\n",
       "  </tbody>\n",
       "</table>\n",
       "<p>269638 rows × 3 columns</p>\n",
       "</div>"
      ],
      "text/plain": [
       "         Age  Sex  SpeExec\n",
       "9       40.0  2.0      7.0\n",
       "14      40.0  2.0     32.0\n",
       "19      30.0  2.0     33.0\n",
       "20      80.0  2.0      1.0\n",
       "21      50.0  2.0      1.0\n",
       "...      ...  ...      ...\n",
       "999988  60.0  2.0     35.0\n",
       "999990   0.0  1.0     13.0\n",
       "999993  30.0  2.0     12.0\n",
       "999994   0.0  2.0     36.0\n",
       "999998  70.0  2.0     15.0\n",
       "\n",
       "[269638 rows x 3 columns]"
      ]
     },
     "execution_count": 115,
     "metadata": {},
     "output_type": "execute_result"
    }
   ],
   "source": [
    "age_df = {\n",
    "    \"Age\" : head_df.AGE_BEN_SNDS[(head_df.AGE_BEN_SNDS != 99)],\n",
    "    \"Sex\" : head_df.BEN_SEX_COD[(head_df.BEN_SEX_COD != 0) & (head_df.BEN_SEX_COD != 9)],\n",
    "    \"SpeExec\" : head_df.PSE_SPE_SNDS[(head_df.PSE_SPE_SNDS!=0) & (head_df.PSE_SPE_SNDS!=99) & (head_df.PSE_SPE_SNDS!=80)]\n",
    "}\n",
    "\n",
    "age_df = pd.DataFrame(age_df)\n",
    "age_df = age_df.dropna()\n",
    "age_df"
   ]
  },
  {
   "cell_type": "code",
   "execution_count": null,
   "metadata": {},
   "outputs": [
    {
     "data": {
      "text/plain": [
       "<PandasArray>\n",
       "[ 1.0,  6.0,  4.0, 15.0,  3.0,  2.0,  5.0, 11.0, 33.0,  8.0, 13.0, 12.0, 14.0,\n",
       "  9.0, 32.0, 18.0, 37.0, 42.0, 35.0, 31.0, 36.0,  7.0, 38.0, 34.0]\n",
       "Length: 24, dtype: float64"
      ]
     },
     "execution_count": 116,
     "metadata": {},
     "output_type": "execute_result"
    }
   ],
   "source": [
    "occH = age_df.SpeExec.where(age_df.Sex == 1)\n",
    "occH = occH.dropna()\n",
    "occH = occH.value_counts()\n",
    "\n",
    "occF = age_df.SpeExec.where(age_df.Sex == 2)\n",
    "occF = occF.dropna()\n",
    "occF = occF.value_counts()\n",
    "\n",
    "ar = occH.keys().array\n",
    "ar"
   ]
  },
  {
   "cell_type": "code",
   "execution_count": null,
   "metadata": {},
   "outputs": [
    {
     "data": {
      "image/png": "[encoded data removed]",
      "text/plain": [
       "<Figure size 1512x360 with 1 Axes>"
      ]
     },
     "metadata": {
      "needs_background": "light"
     },
     "output_type": "display_data"
    }
   ],
   "source": [
    "fig = plt.figure(figsize=(21, 5))\n",
    "ax = fig.add_axes([0,0,1,1])\n",
    "\n",
    "\n",
    "men = ax.bar(occH.keys()-0.20, occH, width = 0.4, label = \"Men\", color = '#0064FF')\n",
    "women = ax.bar(occF.keys()+0.2, occF, width = 0.4, label = \"Women\", color = '#FF0000')\n",
    "ax.set_xlabel(\"Code Discipline Executant\")\n",
    "ax.set_ylabel(\"Nombre de consultations\")\n",
    "ax.legend()\n",
    "\n",
    "plt.title(\"Admis par Specialité Medicale et par Sexe\")\n",
    "plt.xticks(ar, occH.keys())\n",
    "\n",
    "plt.show()"
   ]
  },
  {
   "cell_type": "code",
   "execution_count": null,
   "metadata": {},
   "outputs": [
    {
     "data": {
      "text/html": [
       "<div>\n",
       "<style scoped>\n",
       "    .dataframe tbody tr th:only-of-type {\n",
       "        vertical-align: middle;\n",
       "    }\n",
       "\n",
       "    .dataframe tbody tr th {\n",
       "        vertical-align: top;\n",
       "    }\n",
       "\n",
       "    .dataframe thead th {\n",
       "        text-align: right;\n",
       "    }\n",
       "</style>\n",
       "<table border=\"1\" class=\"dataframe\">\n",
       "  <thead>\n",
       "    <tr style=\"text-align: right;\">\n",
       "      <th></th>\n",
       "      <th>Age</th>\n",
       "      <th>Sex</th>\n",
       "      <th>SpeExec</th>\n",
       "    </tr>\n",
       "  </thead>\n",
       "  <tbody>\n",
       "    <tr>\n",
       "      <th>9</th>\n",
       "      <td>40.0</td>\n",
       "      <td>2.0</td>\n",
       "      <td>7.0</td>\n",
       "    </tr>\n",
       "    <tr>\n",
       "      <th>14</th>\n",
       "      <td>40.0</td>\n",
       "      <td>2.0</td>\n",
       "      <td>32.0</td>\n",
       "    </tr>\n",
       "    <tr>\n",
       "      <th>19</th>\n",
       "      <td>30.0</td>\n",
       "      <td>2.0</td>\n",
       "      <td>33.0</td>\n",
       "    </tr>\n",
       "    <tr>\n",
       "      <th>20</th>\n",
       "      <td>80.0</td>\n",
       "      <td>2.0</td>\n",
       "      <td>1.0</td>\n",
       "    </tr>\n",
       "    <tr>\n",
       "      <th>21</th>\n",
       "      <td>50.0</td>\n",
       "      <td>2.0</td>\n",
       "      <td>1.0</td>\n",
       "    </tr>\n",
       "    <tr>\n",
       "      <th>...</th>\n",
       "      <td>...</td>\n",
       "      <td>...</td>\n",
       "      <td>...</td>\n",
       "    </tr>\n",
       "    <tr>\n",
       "      <th>999988</th>\n",
       "      <td>60.0</td>\n",
       "      <td>2.0</td>\n",
       "      <td>35.0</td>\n",
       "    </tr>\n",
       "    <tr>\n",
       "      <th>999990</th>\n",
       "      <td>0.0</td>\n",
       "      <td>1.0</td>\n",
       "      <td>13.0</td>\n",
       "    </tr>\n",
       "    <tr>\n",
       "      <th>999993</th>\n",
       "      <td>30.0</td>\n",
       "      <td>2.0</td>\n",
       "      <td>12.0</td>\n",
       "    </tr>\n",
       "    <tr>\n",
       "      <th>999994</th>\n",
       "      <td>0.0</td>\n",
       "      <td>2.0</td>\n",
       "      <td>36.0</td>\n",
       "    </tr>\n",
       "    <tr>\n",
       "      <th>999998</th>\n",
       "      <td>70.0</td>\n",
       "      <td>2.0</td>\n",
       "      <td>15.0</td>\n",
       "    </tr>\n",
       "  </tbody>\n",
       "</table>\n",
       "<p>269638 rows × 3 columns</p>\n",
       "</div>"
      ],
      "text/plain": [
       "         Age  Sex  SpeExec\n",
       "9       40.0  2.0      7.0\n",
       "14      40.0  2.0     32.0\n",
       "19      30.0  2.0     33.0\n",
       "20      80.0  2.0      1.0\n",
       "21      50.0  2.0      1.0\n",
       "...      ...  ...      ...\n",
       "999988  60.0  2.0     35.0\n",
       "999990   0.0  1.0     13.0\n",
       "999993  30.0  2.0     12.0\n",
       "999994   0.0  2.0     36.0\n",
       "999998  70.0  2.0     15.0\n",
       "\n",
       "[269638 rows x 3 columns]"
      ]
     },
     "execution_count": 118,
     "metadata": {},
     "output_type": "execute_result"
    }
   ],
   "source": [
    "age_df"
   ]
  },
  {
   "cell_type": "code",
   "execution_count": null,
   "metadata": {},
   "outputs": [],
   "source": [
    "# Medecine Générale H/F (1)\n",
    "\n",
    "mgH = age_df.Age.where((age_df.Sex == 1) & (age_df.SpeExec == 1))\n",
    "mgH = mgH.dropna()\n",
    "mgH = mgH.value_counts()\n",
    "\n",
    "mgF = age_df.Age.where((age_df.Sex == 2) & (age_df.SpeExec == 1))\n",
    "mgF = mgF.dropna()\n",
    "mgF = mgF.value_counts()\n",
    "\n",
    "# Radiologie H/F (6)\n",
    "\n",
    "radioH = age_df.Age.where((age_df.Sex == 1) & (age_df.SpeExec == 6))\n",
    "radioH = radioH.dropna()\n",
    "radioH = radioH.value_counts()\n",
    "\n",
    "radioF = age_df.Age.where((age_df.Sex == 2) & (age_df.SpeExec == 6))\n",
    "radioF = radioF.dropna()\n",
    "radioF = radioF.value_counts()\n",
    "\n",
    "# Chirurgie H/F (4)\n",
    "\n",
    "chiruH = age_df.Age.where((age_df.Sex == 1) & (age_df.SpeExec == 4))\n",
    "chiruH = chiruH.dropna()\n",
    "chiruH = chiruH.value_counts()\n",
    "\n",
    "chiruF = age_df.Age.where((age_df.Sex == 2) & (age_df.SpeExec == 4))\n",
    "chiruF = chiruF.dropna()\n",
    "chiruF = chiruF.value_counts()\n",
    "\n",
    "# Ophtalmologie H/F (15)\n",
    "\n",
    "opthtaH = age_df.Age.where((age_df.Sex == 1) & (age_df.SpeExec == 15))\n",
    "opthtaH = opthtaH.dropna()\n",
    "opthtaH = opthtaH.value_counts()\n",
    "\n",
    "opthtaF = age_df.Age.where((age_df.Sex == 2) & (age_df.SpeExec == 15))\n",
    "opthtaF = opthtaF.dropna()\n",
    "opthtaF = opthtaF.value_counts()\n",
    "\n",
    "# Gynecologie F (7)\n",
    "\n",
    "gyneco = age_df.Age.where((age_df.Sex == 2) & (age_df.SpeExec == 7))\n",
    "gyneco = gyneco.dropna()\n",
    "gyneco = gyneco.value_counts()"
   ]
  },
  {
   "cell_type": "code",
   "execution_count": null,
   "metadata": {},
   "outputs": [
    {
     "data": {
      "image/png": "[encoded data removed]",
      "text/plain": [
       "<Figure size 1440x360 with 1 Axes>"
      ]
     },
     "metadata": {
      "needs_background": "light"
     },
     "output_type": "display_data"
    }
   ],
   "source": [
    "fig = plt.figure(figsize=(20, 5))\n",
    "ax = fig.add_axes([0,0,1,1])\n",
    "\n",
    "men = ax.bar(mgH.keys()-1, mgH, width = 2, label = \"Men\", color = '#0064FF')\n",
    "women = ax.bar(mgF.keys()+1, mgF, width = 2, label = \"Women\", color = '#FF0000')\n",
    "ax.set_xlabel(\"Age\")\n",
    "ax.set_ylabel(\"Quantité\")\n",
    "ax.legend()\n",
    "\n",
    "plt.xticks(mgH.keys().array)\n",
    "plt.title(\"Medecine Générale Répartition par tranche d'âge\")\n",
    "plt.show()"
   ]
  },
  {
   "cell_type": "code",
   "execution_count": null,
   "metadata": {},
   "outputs": [
    {
     "data": {
      "image/png": "[encoded data removed]",
      "text/plain": [
       "<Figure size 1440x360 with 1 Axes>"
      ]
     },
     "metadata": {
      "needs_background": "light"
     },
     "output_type": "display_data"
    }
   ],
   "source": [
    "fig = plt.figure(figsize=(20, 5))\n",
    "ax = fig.add_axes([0,0,1,1])\n",
    "\n",
    "men = ax.bar(radioH.keys()-1, radioH, width = 2, label = \"Men\", color = '#0064FF')\n",
    "women = ax.bar(radioF.keys()+1, radioF, width = 2, label = \"Women\", color = '#FF0000')\n",
    "ax.set_xlabel(\"Age\")\n",
    "ax.set_ylabel(\"Quantité\")\n",
    "ax.legend()\n",
    "\n",
    "plt.xticks(chiruH.keys().array)\n",
    "plt.title(\"Radiologie Répartition par tranche d'âge\")\n",
    "plt.show()"
   ]
  },
  {
   "cell_type": "code",
   "execution_count": null,
   "metadata": {},
   "outputs": [
    {
     "data": {
      "image/png": "[encoded data removed]",
      "text/plain": [
       "<Figure size 1440x360 with 1 Axes>"
      ]
     },
     "metadata": {
      "needs_background": "light"
     },
     "output_type": "display_data"
    }
   ],
   "source": [
    "fig = plt.figure(figsize=(20, 5))\n",
    "ax = fig.add_axes([0,0,1,1])\n",
    "\n",
    "men = ax.bar(chiruH.keys()-1, chiruH, width = 2, label = \"Men\", color = '#0064FF')\n",
    "women = ax.bar(chiruF.keys()+1, chiruF, width = 2, label = \"Women\", color = '#FF0000')\n",
    "ax.set_xlabel(\"Age\")\n",
    "ax.set_ylabel(\"Quantité\")\n",
    "ax.legend()\n",
    "\n",
    "plt.xticks(chiruH.keys().array)\n",
    "plt.title(\"Chirugie Répartition par tranche d'âge\")\n",
    "plt.show()"
   ]
  },
  {
   "cell_type": "code",
   "execution_count": null,
   "metadata": {},
   "outputs": [
    {
     "data": {
      "image/png": "[encoded data removed]",
      "text/plain": [
       "<Figure size 1440x360 with 1 Axes>"
      ]
     },
     "metadata": {
      "needs_background": "light"
     },
     "output_type": "display_data"
    }
   ],
   "source": [
    "fig = plt.figure(figsize=(20, 5))\n",
    "ax = fig.add_axes([0,0,1,1])\n",
    "\n",
    "men = ax.bar(opthtaH.keys()-1, opthtaH, width = 2, label = \"Men\", color = '#0064FF')\n",
    "women = ax.bar(opthtaF.keys()+1, radioF, width = 2, label = \"Women\", color = '#FF0000')\n",
    "ax.set_xlabel(\"Age\")\n",
    "ax.set_ylabel(\"Quantité\")\n",
    "ax.legend()\n",
    "\n",
    "plt.xticks(opthtaH.keys().array)\n",
    "plt.title(\"Radiologie Répartition par tranche d'âge\")\n",
    "plt.show()"
   ]
  },
  {
   "cell_type": "code",
   "execution_count": null,
   "metadata": {},
   "outputs": [
    {
     "data": {
      "image/png": "[encoded data removed]",
      "text/plain": [
       "<Figure size 1440x360 with 1 Axes>"
      ]
     },
     "metadata": {
      "needs_background": "light"
     },
     "output_type": "display_data"
    }
   ],
   "source": [
    "fig = plt.figure(figsize=(20, 5))\n",
    "ax = fig.add_axes([0,0,1,1])\n",
    "\n",
    "women = ax.bar(gyneco.keys(), radioF, width = 2, label = \"Women\", color = '#FF0000')\n",
    "ax.set_xlabel(\"Age\")\n",
    "ax.set_ylabel(\"Quantité\")\n",
    "ax.legend()\n",
    "\n",
    "plt.xticks(gyneco.keys().array)\n",
    "plt.title(\"Radiologie Répartition par tranche d'âge\")\n",
    "plt.show()"
   ]
  }
 ],
 "metadata": {
  "interpreter": {
   "hash": "1b216e1c644a533750862b2e86015b942915218ae6b4ee35cc1656b250849a93"
  },
  "kernelspec": {
   "display_name": "Python 3.8.12 ('Hesias')",
   "language": "python",
   "name": "python3"
  },
  "language_info": {
   "codemirror_mode": {
    "name": "ipython",
    "version": 3
   },
   "file_extension": ".py",
   "mimetype": "text/x-python",
   "name": "python",
   "nbconvert_exporter": "python",
   "pygments_lexer": "ipython3",
   "version": "3.8.12"
  },
  "orig_nbformat": 4
 },
 "nbformat": 4,
 "nbformat_minor": 2
}
